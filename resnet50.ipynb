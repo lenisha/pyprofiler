{
 "cells": [
  {
   "cell_type": "markdown",
   "metadata": {},
   "source": [
    "ResNet50 Pytoch Demo with Profiler"
   ]
  },
  {
   "cell_type": "code",
   "execution_count": null,
   "metadata": {},
   "outputs": [],
   "source": [
    "import torch\n",
    "import torch.nn as nn\n",
    "import torch.nn.parallel\n",
    "import torch.backends.cudnn as cudnn\n",
    "import torch.optim\n",
    "import torch.utils.data\n",
    "import torchvision\n",
    "import torchvision.transforms as T\n",
    "import torchvision.datasets as datasets\n",
    "import torchvision.models as models"
   ]
  },
  {
   "cell_type": "code",
   "execution_count": null,
   "metadata": {},
   "outputs": [],
   "source": [
    "import torch.profiler"
   ]
  },
  {
   "cell_type": "code",
   "execution_count": null,
   "metadata": {},
   "outputs": [],
   "source": [
    "# model in pytorch repo with weights \n",
    "model = models.resnet50(pretrained=True)\n",
    "model.cuda() # load in GPU\n",
    "cudnn.benchmark = True"
   ]
  },
  {
   "cell_type": "code",
   "execution_count": null,
   "metadata": {},
   "outputs": [],
   "source": [
    "# pre-process images\n",
    "transform = T.Compose([T.Resize(256), T.CenterCrop(224), T.ToTensor()])\n",
    "# Dataset load \n",
    "trainset = torchvision.datasets.CIFAR10(root='./data', train=True, \n",
    "                                        download=True, transform=transform)\n",
    "# Loading                                 \n",
    "trainloader = torch.utils.data.DataLoader(trainset, batch_size=16,\n",
    "                                          shuffle=True)\n",
    "# calc loss (target and training) - and minimize it\n",
    "criterion = nn.CrossEntropyLoss().cuda()\n",
    "# back propagation \n",
    "optimizer = torch.optim.SGD(model.parameters(), lr=0.001, momentum=0.9)\n",
    "\n",
    "device = torch.device(\"cuda:0\")"
   ]
  },
  {
   "cell_type": "code",
   "execution_count": null,
   "metadata": {},
   "outputs": [],
   "source": [
    "# switch to training mode\n",
    "model.train()"
   ]
  },
  {
   "cell_type": "code",
   "execution_count": null,
   "metadata": {},
   "outputs": [],
   "source": [
    "def output_fn(p):\n",
    "    p.export_chrome_trace(\"./trace/resnet50_record/worker0.pt.trace.json\")\n",
    "    \n",
    "# add context manager around training loop\n",
    "with torch.profiler.profile(\n",
    "    activities=[\n",
    "        torch.profiler.ProfilerActivity.CPU,\n",
    "        torch.profiler.ProfilerActivity.CUDA],\n",
    "    schedule=torch.profiler.schedule(\n",
    "        wait=2, # skip first 2 training steps\n",
    "        warmup=3, # reach steady and skip few layers, profiling happens ignores results\n",
    "        active=6), # only profile 6 steps - allows to focus and skip some layers for reducing overhead(even in prod)\n",
    "    on_trace_ready=output_fn, \n",
    "    record_shapes=True\n",
    ") as p:\n",
    "    for step, data in enumerate(trainloader, 0):\n",
    "        print(\"step:{}\".format(step))\n",
    "        inputs, labels = data[0].to(device=device), data[1].to(device=device)\n",
    "        with torch.profiler.record_function(\"# forward #\"):\n",
    "           outputs = model(inputs)\n",
    "        loss = criterion(outputs, labels)\n",
    "        \n",
    "        optimizer.zero_grad()\n",
    "        with torch.profiler.record_function(\"# backward #\"):\n",
    "          loss.backward()\n",
    "        optimizer.step()\n",
    "        \n",
    "        p.step()\n",
    "        if step + 1 >= 11:\n",
    "            break\n"
   ]
  },
  {
   "cell_type": "code",
   "execution_count": null,
   "metadata": {},
   "outputs": [],
   "source": []
  }
 ],
 "metadata": {
  "kernelspec": {
   "name": "python379jvsc74a57bd00eaf850d80b45e4bf0bb0d9dee9e6b44038fcbb6c1cc815c5caf61bb2f33758f",
   "display_name": "Python 3.7.9 64-bit ('py37_default': conda)"
  },
  "language_info": {
   "codemirror_mode": {
    "name": "ipython",
    "version": 3
   },
   "file_extension": ".py",
   "mimetype": "text/x-python",
   "name": "python",
   "nbconvert_exporter": "python",
   "pygments_lexer": "ipython3",
   "version": "3.7.9"
  },
  "orig_nbformat": 2
 },
 "nbformat": 4,
 "nbformat_minor": 2
}